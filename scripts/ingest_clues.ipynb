{
 "cells": [
  {
   "cell_type": "markdown",
   "id": "6fb602a5",
   "metadata": {},
   "source": [
    "# Ingest and Embed Historical NYT Clues"
   ]
  },
  {
   "cell_type": "markdown",
   "id": "1e80059a",
   "metadata": {},
   "source": [
    "### Preparing Data"
   ]
  },
  {
   "cell_type": "code",
   "execution_count": 1,
   "id": "dd4a688f",
   "metadata": {},
   "outputs": [
    {
     "name": "stdout",
     "output_type": "stream",
     "text": [
      "Initial dataframe shape: (7579226, 4)\n",
      "Earliest non-zero year: 1913, Latest year: 2025\n"
     ]
    }
   ],
   "source": [
    "import pandas as pd\n",
    "\n",
    "df = pd.read_csv(\n",
    "    \"data/clues.tsv\", sep=\"\\t\", usecols=[\"pubid\", \"year\", \"answer\", \"clue\"]\n",
    ")\n",
    "\n",
    "print(f\"Initial dataframe shape: {df.shape}\")\n",
    "print(\n",
    "    f\"Earliest non-zero year: {df[df['year'] != 0]['year'].min()}, Latest year: {df['year'].max()}\"\n",
    ")"
   ]
  },
  {
   "cell_type": "code",
   "execution_count": 8,
   "id": "6ed92523",
   "metadata": {},
   "outputs": [
    {
     "name": "stdout",
     "output_type": "stream",
     "text": [
      "After dropping NA: (7490011, 4)\n",
      "After dropping duplicates: (3689368, 4)\n",
      "After filtering non-alpha answers: (3688149, 4)\n",
      "After filtering answers with 'XX': (3680424, 4)\n"
     ]
    }
   ],
   "source": [
    "df = df.dropna(subset=[\"answer\", \"clue\"])\n",
    "print(f\"After dropping NA: {df.shape}\")\n",
    "\n",
    "df.sort_values(\"year\", ascending=False, inplace=True)\n",
    "df = df.drop_duplicates(subset=[\"clue\", \"answer\"], keep=\"first\")  # keep the most recent\n",
    "print(f\"After dropping duplicates: {df.shape}\")\n",
    "\n",
    "df = df[df[\"answer\"].str.fullmatch(r\"[A-Za-z]+\")]\n",
    "print(f\"After filtering non-alpha answers: {df.shape}\")\n",
    "\n",
    "df = df[~df[\"answer\"].str.contains(\"XX\", na=False)]\n",
    "print(f\"After filtering answers with 'XX': {df.shape}\")"
   ]
  },
  {
   "cell_type": "code",
   "execution_count": 18,
   "id": "f1b2d809",
   "metadata": {},
   "outputs": [
    {
     "name": "stdout",
     "output_type": "stream",
     "text": [
      "Filtered to 2024 & 2025 NYT, deduplicated on answers: (16104, 4)\n"
     ]
    }
   ],
   "source": [
    "subset = (\n",
    "    df[(df[\"year\"] >= 2024) & (df[\"pubid\"] == \"nyt\")]\n",
    "    .drop_duplicates(subset=[\"answer\"], keep=\"first\")\n",
    "    .sort_values(\"answer\")\n",
    ")\n",
    "print(f\"Filtered to 2024 & 2025 NYT, deduplicated on answers: {subset.shape}\")"
   ]
  },
  {
   "cell_type": "code",
   "execution_count": 31,
   "id": "8dba2b50",
   "metadata": {},
   "outputs": [],
   "source": [
    "sample = subset.sample(5000).sort_values(\"answer\").reset_index(drop=True)\n",
    "sample[\"embedding_string\"] = (\n",
    "    \"Clue: \" + sample[\"clue\"] + \" | Answer: \" + sample[\"answer\"]\n",
    ")"
   ]
  },
  {
   "cell_type": "code",
   "execution_count": 32,
   "id": "664020e8",
   "metadata": {},
   "outputs": [
    {
     "data": {
      "text/html": [
       "<div>\n",
       "<style scoped>\n",
       "    .dataframe tbody tr th:only-of-type {\n",
       "        vertical-align: middle;\n",
       "    }\n",
       "\n",
       "    .dataframe tbody tr th {\n",
       "        vertical-align: top;\n",
       "    }\n",
       "\n",
       "    .dataframe thead th {\n",
       "        text-align: right;\n",
       "    }\n",
       "</style>\n",
       "<table border=\"1\" class=\"dataframe\">\n",
       "  <thead>\n",
       "    <tr style=\"text-align: right;\">\n",
       "      <th></th>\n",
       "      <th>pubid</th>\n",
       "      <th>year</th>\n",
       "      <th>answer</th>\n",
       "      <th>clue</th>\n",
       "      <th>embedding_string</th>\n",
       "    </tr>\n",
       "  </thead>\n",
       "  <tbody>\n",
       "    <tr>\n",
       "      <th>0</th>\n",
       "      <td>nyt</td>\n",
       "      <td>2024</td>\n",
       "      <td>AAVE</td>\n",
       "      <td>Dialect in the Black community, in brief</td>\n",
       "      <td>Clue: Dialect in the Black community, in brief...</td>\n",
       "    </tr>\n",
       "    <tr>\n",
       "      <th>1</th>\n",
       "      <td>nyt</td>\n",
       "      <td>2024</td>\n",
       "      <td>AAVERAGES</td>\n",
       "      <td>Means of excellence?</td>\n",
       "      <td>Clue: Means of excellence? | Answer: AAVERAGES</td>\n",
       "    </tr>\n",
       "    <tr>\n",
       "      <th>2</th>\n",
       "      <td>nyt</td>\n",
       "      <td>2024</td>\n",
       "      <td>ABA</td>\n",
       "      <td>Org. for lawyers</td>\n",
       "      <td>Clue: Org. for lawyers | Answer: ABA</td>\n",
       "    </tr>\n",
       "    <tr>\n",
       "      <th>3</th>\n",
       "      <td>nyt</td>\n",
       "      <td>2024</td>\n",
       "      <td>ABBAS</td>\n",
       "      <td>Fathers, in Hebrew</td>\n",
       "      <td>Clue: Fathers, in Hebrew | Answer: ABBAS</td>\n",
       "    </tr>\n",
       "    <tr>\n",
       "      <th>4</th>\n",
       "      <td>nyt</td>\n",
       "      <td>2024</td>\n",
       "      <td>ABBEY</td>\n",
       "      <td>Place of learning in the Middle Ages</td>\n",
       "      <td>Clue: Place of learning in the Middle Ages | A...</td>\n",
       "    </tr>\n",
       "  </tbody>\n",
       "</table>\n",
       "</div>"
      ],
      "text/plain": [
       "  pubid  year     answer                                      clue  \\\n",
       "0   nyt  2024       AAVE  Dialect in the Black community, in brief   \n",
       "1   nyt  2024  AAVERAGES                      Means of excellence?   \n",
       "2   nyt  2024        ABA                          Org. for lawyers   \n",
       "3   nyt  2024      ABBAS                        Fathers, in Hebrew   \n",
       "4   nyt  2024      ABBEY      Place of learning in the Middle Ages   \n",
       "\n",
       "                                    embedding_string  \n",
       "0  Clue: Dialect in the Black community, in brief...  \n",
       "1     Clue: Means of excellence? | Answer: AAVERAGES  \n",
       "2               Clue: Org. for lawyers | Answer: ABA  \n",
       "3           Clue: Fathers, in Hebrew | Answer: ABBAS  \n",
       "4  Clue: Place of learning in the Middle Ages | A...  "
      ]
     },
     "execution_count": 32,
     "metadata": {},
     "output_type": "execute_result"
    }
   ],
   "source": [
    "sample.head()"
   ]
  },
  {
   "cell_type": "code",
   "execution_count": 40,
   "id": "d2773301",
   "metadata": {},
   "outputs": [],
   "source": [
    "from sentence_transformers import SentenceTransformer\n",
    "\n",
    "model = SentenceTransformer(\"Qwen/Qwen3-Embedding-0.6B\", device=\"cpu\")"
   ]
  },
  {
   "cell_type": "code",
   "execution_count": null,
   "id": "b6810efc",
   "metadata": {},
   "outputs": [],
   "source": [
    "model.encode(\"embedding string\")"
   ]
  },
  {
   "cell_type": "code",
   "execution_count": null,
   "id": "23bafcae",
   "metadata": {},
   "outputs": [],
   "source": [
    "results = []\n",
    "for i in range(0, len(df), 1_000):\n",
    "    batch = sample.iloc[i : i + 1_000]\n",
    "    embeddings = model.encode(\n",
    "        batch[\"embedding_string\"].tolist(), show_progress_bar=True\n",
    "    )\n",
    "    results.extend(embeddings)"
   ]
  },
  {
   "cell_type": "code",
   "execution_count": 36,
   "id": "76121da5",
   "metadata": {},
   "outputs": [],
   "source": [
    "sample[\"embedding_vector\"] = results"
   ]
  },
  {
   "cell_type": "code",
   "execution_count": 39,
   "id": "688d05e7",
   "metadata": {},
   "outputs": [
    {
     "data": {
      "text/html": [
       "<div>\n",
       "<style scoped>\n",
       "    .dataframe tbody tr th:only-of-type {\n",
       "        vertical-align: middle;\n",
       "    }\n",
       "\n",
       "    .dataframe tbody tr th {\n",
       "        vertical-align: top;\n",
       "    }\n",
       "\n",
       "    .dataframe thead th {\n",
       "        text-align: right;\n",
       "    }\n",
       "</style>\n",
       "<table border=\"1\" class=\"dataframe\">\n",
       "  <thead>\n",
       "    <tr style=\"text-align: right;\">\n",
       "      <th></th>\n",
       "      <th>pubid</th>\n",
       "      <th>year</th>\n",
       "      <th>answer</th>\n",
       "      <th>clue</th>\n",
       "      <th>embedding_string</th>\n",
       "      <th>embedding_vector</th>\n",
       "    </tr>\n",
       "  </thead>\n",
       "  <tbody>\n",
       "    <tr>\n",
       "      <th>0</th>\n",
       "      <td>nyt</td>\n",
       "      <td>2024</td>\n",
       "      <td>AAVE</td>\n",
       "      <td>Dialect in the Black community, in brief</td>\n",
       "      <td>Clue: Dialect in the Black community, in brief...</td>\n",
       "      <td>[-0.0009760008, -0.08432816, -0.011223102, 0.0...</td>\n",
       "    </tr>\n",
       "    <tr>\n",
       "      <th>1</th>\n",
       "      <td>nyt</td>\n",
       "      <td>2024</td>\n",
       "      <td>AAVERAGES</td>\n",
       "      <td>Means of excellence?</td>\n",
       "      <td>Clue: Means of excellence? | Answer: AAVERAGES</td>\n",
       "      <td>[0.019850034, -0.08287808, -0.012369995, 0.019...</td>\n",
       "    </tr>\n",
       "    <tr>\n",
       "      <th>2</th>\n",
       "      <td>nyt</td>\n",
       "      <td>2024</td>\n",
       "      <td>ABA</td>\n",
       "      <td>Org. for lawyers</td>\n",
       "      <td>Clue: Org. for lawyers | Answer: ABA</td>\n",
       "      <td>[-0.0011886876, -0.10796727, -0.010138356, -0....</td>\n",
       "    </tr>\n",
       "    <tr>\n",
       "      <th>3</th>\n",
       "      <td>nyt</td>\n",
       "      <td>2024</td>\n",
       "      <td>ABBAS</td>\n",
       "      <td>Fathers, in Hebrew</td>\n",
       "      <td>Clue: Fathers, in Hebrew | Answer: ABBAS</td>\n",
       "      <td>[-0.014206971, -0.09720291, -0.008017893, 0.00...</td>\n",
       "    </tr>\n",
       "    <tr>\n",
       "      <th>4</th>\n",
       "      <td>nyt</td>\n",
       "      <td>2024</td>\n",
       "      <td>ABBEY</td>\n",
       "      <td>Place of learning in the Middle Ages</td>\n",
       "      <td>Clue: Place of learning in the Middle Ages | A...</td>\n",
       "      <td>[-0.0074684564, -0.02394928, -0.0074250177, -0...</td>\n",
       "    </tr>\n",
       "  </tbody>\n",
       "</table>\n",
       "</div>"
      ],
      "text/plain": [
       "  pubid  year     answer                                      clue  \\\n",
       "0   nyt  2024       AAVE  Dialect in the Black community, in brief   \n",
       "1   nyt  2024  AAVERAGES                      Means of excellence?   \n",
       "2   nyt  2024        ABA                          Org. for lawyers   \n",
       "3   nyt  2024      ABBAS                        Fathers, in Hebrew   \n",
       "4   nyt  2024      ABBEY      Place of learning in the Middle Ages   \n",
       "\n",
       "                                    embedding_string  \\\n",
       "0  Clue: Dialect in the Black community, in brief...   \n",
       "1     Clue: Means of excellence? | Answer: AAVERAGES   \n",
       "2               Clue: Org. for lawyers | Answer: ABA   \n",
       "3           Clue: Fathers, in Hebrew | Answer: ABBAS   \n",
       "4  Clue: Place of learning in the Middle Ages | A...   \n",
       "\n",
       "                                    embedding_vector  \n",
       "0  [-0.0009760008, -0.08432816, -0.011223102, 0.0...  \n",
       "1  [0.019850034, -0.08287808, -0.012369995, 0.019...  \n",
       "2  [-0.0011886876, -0.10796727, -0.010138356, -0....  \n",
       "3  [-0.014206971, -0.09720291, -0.008017893, 0.00...  \n",
       "4  [-0.0074684564, -0.02394928, -0.0074250177, -0...  "
      ]
     },
     "execution_count": 39,
     "metadata": {},
     "output_type": "execute_result"
    }
   ],
   "source": [
    "sample.head()"
   ]
  },
  {
   "cell_type": "code",
   "execution_count": 37,
   "id": "f759b831",
   "metadata": {},
   "outputs": [],
   "source": [
    "sample.to_json(\"data/clues.json\", orient=\"records\")"
   ]
  }
 ],
 "metadata": {
  "kernelspec": {
   "display_name": "across-the-board",
   "language": "python",
   "name": "python3"
  },
  "language_info": {
   "codemirror_mode": {
    "name": "ipython",
    "version": 3
   },
   "file_extension": ".py",
   "mimetype": "text/x-python",
   "name": "python",
   "nbconvert_exporter": "python",
   "pygments_lexer": "ipython3",
   "version": "3.12.11"
  }
 },
 "nbformat": 4,
 "nbformat_minor": 5
}
